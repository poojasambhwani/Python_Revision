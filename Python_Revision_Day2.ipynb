{
 "cells": [
  {
   "cell_type": "code",
   "execution_count": 28,
   "id": "d8556479-01ca-4bb5-89e3-d0974a6dd99f",
   "metadata": {},
   "outputs": [
    {
     "name": "stdout",
     "output_type": "stream",
     "text": [
      "  * \n",
      " * * \n",
      "* * * \n"
     ]
    }
   ],
   "source": [
    "#     *\n",
    "#    * *\n",
    "#   * * *\n",
    "\n",
    "for i in range(1,4):\n",
    "    for s in range(i,3):\n",
    "        print(\" \", end=\"\")\n",
    "    for j in range(1,i+1):\n",
    "        print(\"*\", end=\" \")\n",
    "    print()"
   ]
  },
  {
   "cell_type": "code",
   "execution_count": 76,
   "id": "fdd10cdb-87cf-4a37-aa3e-52e0015d751b",
   "metadata": {},
   "outputs": [
    {
     "name": "stdout",
     "output_type": "stream",
     "text": [
      "* * * * * \n",
      "  * * * \n",
      "    * \n"
     ]
    }
   ],
   "source": [
    "#   * * * * *\n",
    "#     * * *\n",
    "#       *\n",
    "\n",
    "for i in range(1,4):\n",
    "    for s in range(1,i):\n",
    "        print(\" \",end=\" \")\n",
    "    for j in range(7-2*i):\n",
    "        print(\"*\",end=\" \")\n",
    "    print()"
   ]
  },
  {
   "cell_type": "code",
   "execution_count": 89,
   "id": "30ce7b33-1d4f-450f-bcb3-139defa74341",
   "metadata": {},
   "outputs": [
    {
     "name": "stdout",
     "output_type": "stream",
     "text": [
      "1 2 3 4 5 \n",
      "  1 2 3 \n",
      "    1 \n"
     ]
    }
   ],
   "source": [
    "#   1 2 3 4 5\n",
    "#     1 2 3\n",
    "#       1\n",
    "\n",
    "for i in range(1,4):\n",
    "    for s in range(1,i):\n",
    "        print(\" \",end=\" \")\n",
    "    for j in range(1,8-2*i):\n",
    "        print(j,end=\" \")\n",
    "    print()"
   ]
  },
  {
   "cell_type": "code",
   "execution_count": 128,
   "id": "80c98c00-b01d-4ce0-8801-ab2bfc3c569b",
   "metadata": {},
   "outputs": [
    {
     "name": "stdout",
     "output_type": "stream",
     "text": [
      "1 2 3 4 5 \n",
      "  2 3 4 \n",
      "    3 \n"
     ]
    }
   ],
   "source": [
    "#   1 2 3 4 5\n",
    "#     2 3 4\n",
    "#       3\n",
    "\n",
    "for i in range(1,4):\n",
    "    for s in range(1,i):\n",
    "        print(\" \",end=\" \")\n",
    "    for j in range(i, 7 - i * 1):\n",
    "        print(j, end=\" \")\n",
    "    print()"
   ]
  },
  {
   "cell_type": "code",
   "execution_count": 132,
   "id": "35671332-ab0f-4c62-9fa2-29fe7609f4fa",
   "metadata": {},
   "outputs": [
    {
     "name": "stdout",
     "output_type": "stream",
     "text": [
      "10\n",
      "20\n"
     ]
    }
   ],
   "source": [
    "# Find Duplicates from the given list:\n",
    "# [10,20,10,20,30]\n",
    "\n",
    "l = [10,20,10,20,30]\n",
    "for i in l:\n",
    "    if l.count(i) > 1:\n",
    "        print(i)\n",
    "        l.remove(i)"
   ]
  },
  {
   "cell_type": "code",
   "execution_count": 133,
   "id": "5a89ae9d-c5a8-4dcd-9ab1-a373fd8b0e07",
   "metadata": {},
   "outputs": [
    {
     "name": "stdout",
     "output_type": "stream",
     "text": [
      "100\n"
     ]
    }
   ],
   "source": [
    "# Find the maximum value from the given list:\n",
    "# [10,3,0,70,80,100,9]\n",
    "\n",
    "l1 = [10,3,0,70,80,100,9]\n",
    "m=0\n",
    "for i in l1:  \n",
    "    if i>m:\n",
    "        m=i\n",
    "print(m)"
   ]
  }
 ],
 "metadata": {
  "kernelspec": {
   "display_name": "Python 3 (ipykernel)",
   "language": "python",
   "name": "python3"
  },
  "language_info": {
   "codemirror_mode": {
    "name": "ipython",
    "version": 3
   },
   "file_extension": ".py",
   "mimetype": "text/x-python",
   "name": "python",
   "nbconvert_exporter": "python",
   "pygments_lexer": "ipython3",
   "version": "3.8.12"
  }
 },
 "nbformat": 4,
 "nbformat_minor": 5
}
