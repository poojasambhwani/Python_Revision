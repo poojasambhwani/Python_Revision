{
 "cells": [
  {
   "cell_type": "markdown",
   "id": "66409e7b-b780-4b21-8151-010dc5e45b0b",
   "metadata": {},
   "source": [
    "# Lists Practice Problems"
   ]
  },
  {
   "cell_type": "code",
   "execution_count": 1,
   "id": "d685d7f3-a1b9-40da-913e-1d47a4519b21",
   "metadata": {},
   "outputs": [
    {
     "name": "stdout",
     "output_type": "stream",
     "text": [
      "[55, 19, 29, 67, 61, 52, 34, 20]\n"
     ]
    }
   ],
   "source": [
    "# Create a list of 10 numbers. Remove all numbers divisible by 3 and reverse the list.\n",
    "mylist = [20, 34, 52, 61, 67, 36, 29, 19, 9, 55]\n",
    "for i in mylist:\n",
    "    if i%3==0:\n",
    "        mylist.remove(i)\n",
    "mylist.reverse()\n",
    "print(mylist)"
   ]
  },
  {
   "cell_type": "code",
   "execution_count": 14,
   "id": "27d249e0-565a-4644-b397-f4b613fec017",
   "metadata": {},
   "outputs": [
    {
     "name": "stdout",
     "output_type": "stream",
     "text": [
      "['APPLE', 'MANGO', 'GRAPES', 'PAPAYA']\n"
     ]
    }
   ],
   "source": [
    "# Create a list of strings. Convert all strings to uppercase and remove strings with length < 5.\n",
    "s = [\"apple\", \"bun\", \"mango\", \"grapes\", \"papaya\"]\n",
    "\n",
    "new_list = []\n",
    "for i in s:\n",
    "    if len(i) >= 5:\n",
    "        new_list.append(i.upper())\n",
    "\n",
    "s = new_list\n",
    "print(s)"
   ]
  },
  {
   "cell_type": "code",
   "execution_count": 11,
   "id": "9817aec0-afcc-4f99-bea5-8d42ec8749fe",
   "metadata": {},
   "outputs": [
    {
     "name": "stdout",
     "output_type": "stream",
     "text": [
      "[1, 2, 3, 4, 5, 6, 7, 8, 9]\n"
     ]
    }
   ],
   "source": [
    "# Create two lists and merge them into a sorted list without duplicates.\n",
    "l1 = [3,7,4,8,1,7,8]\n",
    "l2 = [6,9,2,3,2,4,5]\n",
    "l = []\n",
    "for i in l1 + l2:\n",
    "    if i not in l:\n",
    "        l.append(i)\n",
    "l.sort()\n",
    "print(l)"
   ]
  },
  {
   "cell_type": "code",
   "execution_count": 14,
   "id": "53a75dcb-dd5f-41c7-b2bc-0e53c3dcdeb4",
   "metadata": {},
   "outputs": [
    {
     "name": "stdout",
     "output_type": "stream",
     "text": [
      "[9, 8, 7, 6, 5, 4, 3, 2, 1]\n",
      "8\n"
     ]
    }
   ],
   "source": [
    "# Find the second largest element in a list.\n",
    "l = [3, 7, 4, 8, 1, 7, 8, 6, 9, 2, 3, 2, 4, 5]\n",
    "\n",
    "l = list(set(l))\n",
    "l.sort(reverse=True)\n",
    "print(l)\n",
    "\n",
    "secLar = l[1]\n",
    "print(secLar)"
   ]
  },
  {
   "cell_type": "markdown",
   "id": "40046a43-238d-4c07-a40a-6b03aee74b5b",
   "metadata": {},
   "source": [
    "# Tuples Practice Problems"
   ]
  },
  {
   "cell_type": "code",
   "execution_count": 18,
   "id": "edc4745d-19fc-47f1-be6b-d0e272109ee7",
   "metadata": {},
   "outputs": [
    {
     "name": "stdout",
     "output_type": "stream",
     "text": [
      "21 1 11.9\n"
     ]
    }
   ],
   "source": [
    "# Create a tuple of 10 numbers. Find the largest, smallest, and average value.\n",
    "n = (10, 11 ,12, 13, 14, 15, 20, 21, 1, 2)\n",
    "\n",
    "l= max(n)\n",
    "s= min(n)\n",
    "a= sum(n) / len(n)\n",
    "\n",
    "print(l,s,a)"
   ]
  },
  {
   "cell_type": "code",
   "execution_count": 25,
   "id": "66f8a33c-73f4-44c5-bb59-7c523bfcc6a5",
   "metadata": {},
   "outputs": [
    {
     "name": "stdout",
     "output_type": "stream",
     "text": [
      "(1, 2, 2, 3, 3, 4, 4, 5, 6, 7, 7, 8, 8, 9)\n"
     ]
    }
   ],
   "source": [
    "# Create two tuples, merge them, and sort them in ascending order.\n",
    "l1 = (3,7,4,8,1,7,8)\n",
    "l2 = (6,9,2,3,2,4,5)\n",
    "l= list(l1+l2)\n",
    "l= tuple(sorted(l))\n",
    "print(l)"
   ]
  },
  {
   "cell_type": "code",
   "execution_count": 40,
   "id": "8437bdf5-6781-4ec1-8254-e0de08fab957",
   "metadata": {},
   "outputs": [
    {
     "name": "stdout",
     "output_type": "stream",
     "text": [
      "('APPLE', 'BUN', 'MANGO', 'GRAPES', 'PAPAYA')\n",
      "1\n"
     ]
    }
   ],
   "source": [
    "# Create a tuple of strings, convert them to uppercase, and count how many start with a vowel.\n",
    "s = (\"apple\", \"bun\", \"mango\", \"grapes\", \"papaya\")\n",
    "v = \"aeiou\"\n",
    "s=list(s)\n",
    "count = 0\n",
    "for i in range(len(s)):\n",
    "    s[i] = s[i].upper()  # Convert to uppercase\n",
    "    if s[i][0] in v.upper():  # Check if first letter is a vowel\n",
    "        count += 1\n",
    "s=tuple(s)\n",
    "print(s)\n",
    "print(count)"
   ]
  },
  {
   "cell_type": "code",
   "execution_count": 42,
   "id": "90de3485-7662-4baa-b24b-98a207d86750",
   "metadata": {},
   "outputs": [
    {
     "name": "stdout",
     "output_type": "stream",
     "text": [
      "[34, 59, 9]\n",
      "[6.7, 4.5, 21.4]\n",
      "['happy', 'sad', 'good', 'bad']\n"
     ]
    }
   ],
   "source": [
    "# Create a tuple with mixed data types (int, float, string). Separate them into different lists.\n",
    "t=(34, 59, \"happy\", 6.7, \"sad\", 4.5, 9, \"good\", 21.4, \"bad\")\n",
    "t=list(t)\n",
    "n=[]\n",
    "f=[]\n",
    "s=[]\n",
    "for i in t:\n",
    "    if isinstance(i, int):   \n",
    "        n.append(i)\n",
    "    elif isinstance(i, float):  \n",
    "        f.append(i)\n",
    "    elif isinstance(i, str):  \n",
    "        s.append(i)\n",
    "print(n)\n",
    "print(f)\n",
    "print(s)"
   ]
  },
  {
   "cell_type": "code",
   "execution_count": 43,
   "id": "c11f4130-18eb-454a-b7b5-8c54f922dded",
   "metadata": {},
   "outputs": [
    {
     "name": "stdout",
     "output_type": "stream",
     "text": [
      "[3, 7, 4, 8, 1, 2, 5, 6]\n"
     ]
    }
   ],
   "source": [
    "# Create a tuple of numbers, remove duplicates, and convert it into a list.\n",
    "l = (3,7,4,8,1,7,8,2,5,6,5)\n",
    "l=list(l)\n",
    "l1=[]\n",
    "for i in l:\n",
    "    if i not in l1:\n",
    "        l1.append(i)\n",
    "print(l1)"
   ]
  },
  {
   "cell_type": "markdown",
   "id": "a0f0f2b4-5112-4dc4-87ca-92218e0fb76c",
   "metadata": {},
   "source": [
    "# Dictionaries Practice Problems"
   ]
  },
  {
   "cell_type": "code",
   "execution_count": 55,
   "id": "a2a79344-3c64-4830-97a9-d4c47b1d5cef",
   "metadata": {},
   "outputs": [
    {
     "name": "stdout",
     "output_type": "stream",
     "text": [
      "{'Pooja': 85, 'Amit': 78, 'Priya': 88, 'Aditya': 79}\n"
     ]
    }
   ],
   "source": [
    "# Create a dictionary of 5 items. Remove the key-value pair with the highest value.\n",
    "s = {\n",
    "    \"Pooja\": 85,\n",
    "    \"Rahul\": 92,\n",
    "    \"Amit\": 78,\n",
    "    \"Priya\": 88,\n",
    "    \"Aditya\": 79\n",
    "}\n",
    "h = max(s, key=s.get)\n",
    "s.pop(h)\n",
    "print(s)"
   ]
  },
  {
   "cell_type": "code",
   "execution_count": 65,
   "id": "86b7bbe5-6813-41b8-9750-ed87d621824d",
   "metadata": {},
   "outputs": [
    {
     "name": "stdout",
     "output_type": "stream",
     "text": [
      "{'one': 1, 'two': 2, 'pouch': 2, 'pen': 5, 'book': 10}\n"
     ]
    }
   ],
   "source": [
    "# Create two dictionaries. Merge them and sort the result by values.\n",
    "a = {\"one\": 1,\n",
    "    \"two\": 2\n",
    "    }\n",
    "b = {\"pen\": 5,\n",
    "     \"book\": 10,\n",
    "     \"pouch\": 2\n",
    "    }\n",
    "a.update(b)\n",
    "v = dict(sorted(a.items(), key=lambda item: item[1]))\n",
    "print(v)"
   ]
  },
  {
   "cell_type": "code",
   "execution_count": 68,
   "id": "87872ea4-e641-45b4-9bab-f16a354f90ed",
   "metadata": {},
   "outputs": [
    {
     "name": "stdout",
     "output_type": "stream",
     "text": [
      "{'apple': 5, 'bun': 3, 'mango': 5, 'grapes': 6, 'papaya': 6}\n"
     ]
    }
   ],
   "source": [
    "# Create a dictionary from a list where keys are strings and values are their lengths.\n",
    "s = [\"apple\", \"bun\", \"mango\", \"grapes\", \"papaya\"]\n",
    "dict1={}\n",
    "for i in s:\n",
    "    dict1[i]=len(i)\n",
    "print(dict1)"
   ]
  },
  {
   "cell_type": "code",
   "execution_count": 93,
   "id": "fbb263c7-3e1a-4895-a8f0-7feb23d0312f",
   "metadata": {},
   "outputs": [
    {
     "name": "stdout",
     "output_type": "stream",
     "text": [
      "Pooja\n",
      "Rahul\n",
      "Priya\n"
     ]
    }
   ],
   "source": [
    "# Create a dictionary of student names and scores. Filter students who scored more than 80.\n",
    "s = {\n",
    "    \"Pooja\": 85,\n",
    "    \"Rahul\": 92,\n",
    "    \"Amit\": 78,\n",
    "    \"Priya\": 88,\n",
    "    \"Aditya\": 79\n",
    "}\n",
    "for i,j in s.items():\n",
    "    if j>80:\n",
    "        print(i)"
   ]
  },
  {
   "cell_type": "markdown",
   "id": "22b96a47-9094-4a25-801f-a663b6486cc6",
   "metadata": {},
   "source": [
    "# String Manipulation"
   ]
  },
  {
   "cell_type": "code",
   "execution_count": 96,
   "id": "704b4026-70e0-4ee0-a432-d5303681bd6e",
   "metadata": {},
   "outputs": [
    {
     "name": "stdout",
     "output_type": "stream",
     "text": [
      "4\n"
     ]
    }
   ],
   "source": [
    "# Write a program to count the number of vowels in a string.\n",
    "s = \"variable\"\n",
    "v = \"aeiou\"\n",
    "count = 0\n",
    "for i in s:\n",
    "    if i in v:\n",
    "        count += 1\n",
    "print(count)"
   ]
  },
  {
   "cell_type": "code",
   "execution_count": 100,
   "id": "6a5c4cc7-05a5-4c50-ba78-00104936955f",
   "metadata": {},
   "outputs": [
    {
     "name": "stdout",
     "output_type": "stream",
     "text": [
      "palindrome\n"
     ]
    }
   ],
   "source": [
    "# Check if a string is a palindrome (same forward and backward).\n",
    "s = \"madam\"\n",
    "if s==s[::-1]:\n",
    "    print(\"palindrome\")\n",
    "else:\n",
    "    print(\"not\")"
   ]
  },
  {
   "cell_type": "code",
   "execution_count": 102,
   "id": "840e1d41-ef1f-4a65-b379-b3bf84a28312",
   "metadata": {},
   "outputs": [
    {
     "name": "stdout",
     "output_type": "stream",
     "text": [
      "hey-hello-hi-how-are-you\n"
     ]
    }
   ],
   "source": [
    "# Replace all spaces in a string with \"-\".\n",
    "h = \"hey hello hi how are you\"\n",
    "s= h.replace(' ', '-')\n",
    "print(s)"
   ]
  },
  {
   "cell_type": "code",
   "execution_count": 106,
   "id": "0cc62bb1-13a0-4a6a-8a9f-e39e2716709c",
   "metadata": {},
   "outputs": [
    {
     "name": "stdout",
     "output_type": "stream",
     "text": [
      "egaggab\n"
     ]
    }
   ],
   "source": [
    "# Write a program to reverse a string without using slicing.\n",
    "s = \"baggage\"\n",
    "t = \"\"\n",
    "for i in s:\n",
    "    t = i + t\n",
    "print(t)"
   ]
  },
  {
   "cell_type": "code",
   "execution_count": 126,
   "id": "d1230dcc-0d59-444e-8449-069df5c99f3f",
   "metadata": {},
   "outputs": [
    {
     "name": "stdout",
     "output_type": "stream",
     "text": [
      "Hey Hello Hi How Are You \n"
     ]
    }
   ],
   "source": [
    "# Convert the first letter of each word in a string to uppercase.\n",
    "h = \"hey hello hi how are you\"\n",
    "n = \"\"\n",
    "for i in h.split():\n",
    "    n = n + i.capitalize() + \" \"\n",
    "print(n)"
   ]
  },
  {
   "cell_type": "markdown",
   "id": "10b17e12-21ac-4d1c-99ed-8b4943d5dc79",
   "metadata": {},
   "source": [
    "# Patterns"
   ]
  },
  {
   "cell_type": "code",
   "execution_count": 137,
   "id": "5c662847-ec82-44b0-bed8-6ea0339ec976",
   "metadata": {},
   "outputs": [
    {
     "name": "stdout",
     "output_type": "stream",
     "text": [
      "*\n",
      "**\n",
      "***\n",
      "****\n",
      "*****\n"
     ]
    }
   ],
   "source": [
    "# *  \n",
    "# * *  \n",
    "# * * *  \n",
    "# * * * *  \n",
    "# * * * * *  \n",
    "\n",
    "for i in range(1,6):\n",
    "    for j in range(i):\n",
    "        print(\"*\", end = \"\")\n",
    "    print()"
   ]
  },
  {
   "cell_type": "code",
   "execution_count": 143,
   "id": "af2be3a0-0ff4-445f-a1f1-b1c30e504673",
   "metadata": {},
   "outputs": [
    {
     "name": "stdout",
     "output_type": "stream",
     "text": [
      "*****\n",
      "****\n",
      "***\n",
      "**\n",
      "*\n"
     ]
    }
   ],
   "source": [
    "# * * * * *  \n",
    "# * * * *  \n",
    "# * * *  \n",
    "# * *  \n",
    "# *  \n",
    "\n",
    "for i in range(1,6):\n",
    "    for j in range(5,i-1,-1):\n",
    "        print(\"*\", end = \"\")\n",
    "    print()"
   ]
  },
  {
   "cell_type": "code",
   "execution_count": 145,
   "id": "3b30d290-904c-4bad-b769-156ef8c1e1b3",
   "metadata": {},
   "outputs": [
    {
     "name": "stdout",
     "output_type": "stream",
     "text": [
      "    * \n",
      "   * * \n",
      "  * * * \n",
      " * * * * \n",
      "* * * * * \n"
     ]
    }
   ],
   "source": [
    "#     *  \n",
    "#    * *  \n",
    "#   * * *  \n",
    "#  * * * *  \n",
    "# * * * * *  \n",
    "\n",
    "for i in range(1, 6):\n",
    "    for s in range(4, i-1, -1):\n",
    "        print(\" \", end = \"\")\n",
    "    for j in range(i):\n",
    "        print(\"* \", end =\"\")\n",
    "    print()"
   ]
  },
  {
   "cell_type": "code",
   "execution_count": 164,
   "id": "ce87b99e-4162-4ed6-abd4-6b4ae97aa28b",
   "metadata": {},
   "outputs": [
    {
     "name": "stdout",
     "output_type": "stream",
     "text": [
      "    * \n",
      "   * * \n",
      "  * * * \n",
      " * * * * \n",
      "* * * * * \n",
      " * * * * \n",
      "  * * * \n",
      "   * * \n",
      "    * \n"
     ]
    }
   ],
   "source": [
    "#     *  \n",
    "#    * *  \n",
    "#   * * *  \n",
    "#  * * * *  \n",
    "# * * * * *  \n",
    "#  * * * *  \n",
    "#   * * *  \n",
    "#    * *  \n",
    "#     *  \n",
    "\n",
    "for i in range(1, 6):\n",
    "    for s in range(4, i-1, -1):\n",
    "        print(\" \", end = \"\")\n",
    "    for j in range(i):\n",
    "        print(\"* \", end =\"\")\n",
    "    print()\n",
    "for p in range(4,0, -1):\n",
    "    for q in range(4,p-1,-1):\n",
    "        print(\" \", end = \"\")\n",
    "    for r in range(p):\n",
    "        print(\"* \", end = \"\")\n",
    "    print()"
   ]
  },
  {
   "cell_type": "code",
   "execution_count": 17,
   "id": "06b6bbb3-08a0-4166-aa05-333059572840",
   "metadata": {},
   "outputs": [
    {
     "name": "stdout",
     "output_type": "stream",
     "text": [
      "1\n",
      "12\n",
      "123\n",
      "1234\n",
      "12345\n"
     ]
    }
   ],
   "source": [
    "for i in range(1,6):\n",
    "    for j in range(1,i+1):\n",
    "        print(j, end = \"\")\n",
    "    print()"
   ]
  },
  {
   "cell_type": "code",
   "execution_count": 167,
   "id": "ade68b1c-2c06-4557-91cf-19b1cebfb855",
   "metadata": {},
   "outputs": [
    {
     "name": "stdout",
     "output_type": "stream",
     "text": [
      "A\n",
      "AB\n",
      "ABC\n",
      "ABCD\n",
      "ABCDE\n"
     ]
    }
   ],
   "source": [
    "for i in range(1,6):\n",
    "    for j in range(i):\n",
    "        print(chr(65+j), end = \"\")\n",
    "    print()"
   ]
  },
  {
   "cell_type": "markdown",
   "id": "b56205d9-7d42-45d5-9a0e-bd50c5a8693d",
   "metadata": {},
   "source": [
    "# Python Practice Problems for Interviews"
   ]
  },
  {
   "cell_type": "code",
   "execution_count": 14,
   "id": "bc24732e-e183-405f-a385-6439835c7f4b",
   "metadata": {},
   "outputs": [
    {
     "data": {
      "text/plain": [
       "[5, 4, 3, 2, 1]"
      ]
     },
     "execution_count": 14,
     "metadata": {},
     "output_type": "execute_result"
    }
   ],
   "source": [
    "# 1. Reverse a list using reverse()\n",
    "\n",
    "lst = [1, 2, 3, 4, 5]\n",
    "lst.reverse()\n",
    "lst"
   ]
  },
  {
   "cell_type": "code",
   "execution_count": 18,
   "id": "c0f141d8-d7cb-4317-b9d3-b5692f092dbc",
   "metadata": {},
   "outputs": [
    {
     "data": {
      "text/plain": [
       "[5, 4, 3, 2, 1]"
      ]
     },
     "execution_count": 18,
     "metadata": {},
     "output_type": "execute_result"
    }
   ],
   "source": [
    "# 2. Reverse a list using slicing\n",
    "\n",
    "lst = [1, 2, 3, 4, 5]\n",
    "l = lst[::-1]\n",
    "l"
   ]
  },
  {
   "cell_type": "code",
   "execution_count": 138,
   "id": "84c07cba-e770-4684-881f-2c45d43a2575",
   "metadata": {},
   "outputs": [
    {
     "data": {
      "text/plain": [
       "[5, 4, 3, 2, 1]"
      ]
     },
     "execution_count": 138,
     "metadata": {},
     "output_type": "execute_result"
    }
   ],
   "source": [
    "# 3. Reverse a list without using reverse() or slicing\n",
    "\n",
    "lst = [1, 2, 3, 4, 5]\n",
    "l = []\n",
    "for i in range(len(lst)-1, -1, -1):\n",
    "    l.append(lst[i])\n",
    "l"
   ]
  },
  {
   "cell_type": "code",
   "execution_count": 19,
   "id": "fa81ed34-dce9-405f-be1d-f781c632d50f",
   "metadata": {},
   "outputs": [
    {
     "data": {
      "text/plain": [
       "[9, 12, 34, 45, 50, 78]"
      ]
     },
     "execution_count": 19,
     "metadata": {},
     "output_type": "execute_result"
    }
   ],
   "source": [
    "# 4. Sort the list using sort()\n",
    "\n",
    "l1 = [45, 78, 12, 34, 9, 50]\n",
    "l1.sort()\n",
    "l1"
   ]
  },
  {
   "cell_type": "code",
   "execution_count": 22,
   "id": "ea4630c2-425e-495d-9f11-77bb84ae79b2",
   "metadata": {},
   "outputs": [
    {
     "data": {
      "text/plain": [
       "[9, 12, 34, 45, 50, 78]"
      ]
     },
     "execution_count": 22,
     "metadata": {},
     "output_type": "execute_result"
    }
   ],
   "source": [
    "# 5. Sort the list without using sort()\n",
    "\n",
    "l1 = [45, 78, 12, 34, 9, 50]\n",
    "for i in range(len(l1)):\n",
    "    for j in range(i + 1, len(l1)):\n",
    "        if l1[i] > l1[j]:\n",
    "            l1[i], l1[j] = l1[j], l1[i]\n",
    "l1"
   ]
  },
  {
   "cell_type": "code",
   "execution_count": 23,
   "id": "842bb680-0964-434d-97f8-6fa0c1d582cd",
   "metadata": {},
   "outputs": [
    {
     "data": {
      "text/plain": [
       "[(1, 5), (2, 4), (3, 3)]"
      ]
     },
     "execution_count": 23,
     "metadata": {},
     "output_type": "execute_result"
    }
   ],
   "source": [
    "# 6. Find pairs that sum to a target\n",
    "\n",
    "nums = [1, 2, 3, 4, 3, 5, 6]\n",
    "tar = 6\n",
    "p = []\n",
    "for i in range(len(nums)):\n",
    "    for j in range(i + 1, len(nums)):\n",
    "        if nums[i] + nums[j] == tar:\n",
    "            p.append((nums[i], nums[j]))\n",
    "p"
   ]
  },
  {
   "cell_type": "code",
   "execution_count": 41,
   "id": "2103cabb-cd72-4c3f-9337-958d16a3a8e3",
   "metadata": {},
   "outputs": [
    {
     "data": {
      "text/plain": [
       "[1, 2, 3, 4, 5, 6, 7, 8]"
      ]
     },
     "execution_count": 41,
     "metadata": {},
     "output_type": "execute_result"
    }
   ],
   "source": [
    "# 7. Flatten the nested list while maintaining the order\n",
    "\n",
    "n = [1, [2, 3], [4, [5, 6], 7], 8]\n",
    "f = []\n",
    "s = [n]\n",
    "while s:\n",
    "    i = s.pop()\n",
    "    if isinstance(i, list):\n",
    "        s.extend(reversed(i))\n",
    "    else:\n",
    "        f.append(i)\n",
    "f "
   ]
  },
  {
   "cell_type": "code",
   "execution_count": 137,
   "id": "83c3eddd-6425-4477-b5b8-d0a52b803e1e",
   "metadata": {},
   "outputs": [
    {
     "data": {
      "text/plain": [
       "120"
      ]
     },
     "execution_count": 137,
     "metadata": {},
     "output_type": "execute_result"
    }
   ],
   "source": [
    "# 8. Find the factorial of a given number\n",
    "\n",
    "n = 5\n",
    "fact = 1\n",
    "for i in range(1,n+1):\n",
    "    fact = fact*i\n",
    "    n+=1\n",
    "fact"
   ]
  },
  {
   "cell_type": "code",
   "execution_count": 61,
   "id": "7b25e97b-b9a4-4054-a1c1-3c24e4840a41",
   "metadata": {},
   "outputs": [
    {
     "data": {
      "text/plain": [
       "'edcba'"
      ]
     },
     "execution_count": 61,
     "metadata": {},
     "output_type": "execute_result"
    }
   ],
   "source": [
    "# 9. Write a Python program to reverse a string without using reversed().\n",
    "\n",
    "s = \"abcde\"\n",
    "r = \"\".join(reversed(s))\n",
    "r"
   ]
  },
  {
   "cell_type": "code",
   "execution_count": 64,
   "id": "ce8ab41e-ab64-45ee-b478-5343325fa950",
   "metadata": {},
   "outputs": [
    {
     "data": {
      "text/plain": [
       "'desrever'"
      ]
     },
     "execution_count": 64,
     "metadata": {},
     "output_type": "execute_result"
    }
   ],
   "source": [
    "# 10. Write a Python program to reverse a string without using slicing.\n",
    "\n",
    "s = \"reversed\"\n",
    "a = s[::-1]\n",
    "a"
   ]
  },
  {
   "cell_type": "code",
   "execution_count": 136,
   "id": "a9b9ecc3-fa8f-444b-9bd5-9a3e7f5d10b2",
   "metadata": {},
   "outputs": [
    {
     "data": {
      "text/plain": [
       "'321rebmun'"
      ]
     },
     "execution_count": 136,
     "metadata": {},
     "output_type": "execute_result"
    }
   ],
   "source": [
    "# 11. Write a Python program to reverse a string without slicing or reversed().\n",
    "\n",
    "s = \"number123\"\n",
    "a = \"\"\n",
    "for i in range(len(s)-1, -1, -1):\n",
    "    a += s[i]\n",
    "a"
   ]
  },
  {
   "cell_type": "code",
   "execution_count": 78,
   "id": "47a3b52b-6ecb-460d-9dfa-975341a87c7d",
   "metadata": {},
   "outputs": [
    {
     "data": {
      "text/plain": [
       "'ahey'"
      ]
     },
     "execution_count": 78,
     "metadata": {},
     "output_type": "execute_result"
    }
   ],
   "source": [
    "# 11. Write a Python program to reverse a string without slicing or reversed().\n",
    "\n",
    "string = \"yeha\"\n",
    "rev = \"\"\n",
    "for i in string:\n",
    "    rev = i + rev\n",
    "rev"
   ]
  },
  {
   "cell_type": "code",
   "execution_count": 67,
   "id": "afe58ea9-c779-4eed-9dee-683f70563cee",
   "metadata": {},
   "outputs": [
    {
     "name": "stdout",
     "output_type": "stream",
     "text": [
      "15\n"
     ]
    }
   ],
   "source": [
    "# Find the sum of digits of a number (e.g., 123 → 1+2+3 = 6).\n",
    "\n",
    "n=12345\n",
    "s=0\n",
    "while n>0:\n",
    "    r=n%10 # calc digits\n",
    "    s=s+r\n",
    "    n=n//10\n",
    "print(s)"
   ]
  },
  {
   "cell_type": "code",
   "execution_count": 75,
   "id": "b61e4d89-edba-44ae-8bbe-ee0ec5ebc816",
   "metadata": {},
   "outputs": [
    {
     "data": {
      "text/plain": [
       "100"
      ]
     },
     "execution_count": 75,
     "metadata": {},
     "output_type": "execute_result"
    }
   ],
   "source": [
    "# 2. Write a Python program to sum all the elements in a list of numbers.\n",
    "# a. numbers = [10, 20, 30, 40]\n",
    "# b. The sum of all elements is: 100\n",
    "\n",
    "numbers = [10, 20, 30, 40]\n",
    "s = 0\n",
    "for i in numbers:\n",
    "    s = s + i\n",
    "s"
   ]
  },
  {
   "cell_type": "code",
   "execution_count": 68,
   "id": "f65cd019-446a-4585-a714-c64199f403aa",
   "metadata": {},
   "outputs": [
    {
     "name": "stdout",
     "output_type": "stream",
     "text": [
      "11 is a prime number\n"
     ]
    }
   ],
   "source": [
    "# Check if a number is prime.\n",
    "\n",
    "num = 11\n",
    "if num > 1:\n",
    "    for i in range(2, num):\n",
    "        if (num % i) == 0:\n",
    "            print(num, \"is not a prime number\")\n",
    "            break\n",
    "    else:\n",
    "        print(num, \"is a prime number\")\n",
    "else:\n",
    "    print(num, \"is not a prime number\")"
   ]
  },
  {
   "cell_type": "code",
   "execution_count": 69,
   "id": "ad9b39de-df26-4000-8516-ce94831fb806",
   "metadata": {},
   "outputs": [
    {
     "name": "stdin",
     "output_type": "stream",
     "text": [
      "Enter a number:  45\n"
     ]
    },
    {
     "name": "stdout",
     "output_type": "stream",
     "text": [
      "1\n",
      "3\n",
      "5\n",
      "9\n",
      "15\n",
      "45\n"
     ]
    }
   ],
   "source": [
    "# factors of a number\n",
    "\n",
    "n=int(input(\"Enter a number: \"))\n",
    "for i in range(1,n+1):\n",
    "    if n%i==0:\n",
    "        print(i)"
   ]
  },
  {
   "cell_type": "code",
   "execution_count": 91,
   "id": "0aa90a45-63f9-491b-970d-ffd334f0e5b1",
   "metadata": {},
   "outputs": [
    {
     "data": {
      "text/plain": [
       "(99, 3)"
      ]
     },
     "execution_count": 91,
     "metadata": {},
     "output_type": "execute_result"
    }
   ],
   "source": [
    "# 2. Find maximum and minimum in a list (without max() or min()).\n",
    "\n",
    "arr = [23, 11, 99, 3, 72]\n",
    "maxi = arr[0]\n",
    "mini = arr[0]\n",
    "\n",
    "for i in arr:\n",
    "    if i > maxi:\n",
    "        maxi = i\n",
    "    if i < mini:\n",
    "        mini = i\n",
    "\n",
    "maxi, mini"
   ]
  },
  {
   "cell_type": "code",
   "execution_count": 73,
   "id": "97088f6c-d2b0-4e20-8fd8-2abeb3e0a08b",
   "metadata": {},
   "outputs": [
    {
     "data": {
      "text/plain": [
       "[1, 2, 3, 4, 5]"
      ]
     },
     "execution_count": 73,
     "metadata": {},
     "output_type": "execute_result"
    }
   ],
   "source": [
    "# 5. Write a Python program to remove duplicates from a list without using set() or list comprehension while maintaining the order\n",
    "# of elements.\n",
    "# a. numbers = [1, 2, 2, 3, 4, 4, 5]\n",
    "# b. List after removing duplicates: [1, 2, 3, 4, 5]\n",
    "\n",
    "numbers = [1, 2, 2, 3, 4, 4, 5]\n",
    "n = []\n",
    "for i in numbers:\n",
    "    if i not in n:\n",
    "        n.append(i)\n",
    "n"
   ]
  },
  {
   "cell_type": "code",
   "execution_count": 74,
   "id": "48181881-85f9-4eee-93f3-39c38eaa7c85",
   "metadata": {},
   "outputs": [
    {
     "name": "stdout",
     "output_type": "stream",
     "text": [
      "4\n"
     ]
    }
   ],
   "source": [
    "# Write a program to count the number of vowels in a string.\n",
    "s = \"variable\"\n",
    "v = \"aeiou\"\n",
    "count = 0\n",
    "for i in s:\n",
    "    if i in v:\n",
    "        count += 1\n",
    "print(count)"
   ]
  },
  {
   "cell_type": "code",
   "execution_count": 139,
   "id": "434eb7f1-d17f-4853-a66a-73b4a44b5740",
   "metadata": {},
   "outputs": [
    {
     "name": "stdout",
     "output_type": "stream",
     "text": [
      "palindrome\n"
     ]
    }
   ],
   "source": [
    "# Check if a string is a palindrome (without using slicing)\n",
    "\n",
    "string = \"madam\"\n",
    "rev = \"\"\n",
    "for i in string:\n",
    "    rev = i + rev\n",
    "\n",
    "if (string == rev):\n",
    "    print(\"palindrome\")\n",
    "else: \n",
    "    print(\"not palindrome\")"
   ]
  },
  {
   "cell_type": "code",
   "execution_count": 86,
   "id": "ff018a91-2ec4-4f5c-9ef1-5c453238bad1",
   "metadata": {},
   "outputs": [
    {
     "name": "stdout",
     "output_type": "stream",
     "text": [
      "Palindrome number\n"
     ]
    }
   ],
   "source": [
    "# Check if a number is a palindrome (without using slicing)\n",
    "\n",
    "num = 121\n",
    "t = num\n",
    "s = 0\n",
    "while num != 0:\n",
    "    r = num % 10\n",
    "    s = s * 10 + r\n",
    "    num = num //10\n",
    "if s == t:\n",
    "    print(\"Palindrome number\")\n",
    "else:\n",
    "    print(\"Not a palindrome number\")"
   ]
  },
  {
   "cell_type": "code",
   "execution_count": 140,
   "id": "f4f0371c-5099-46ae-8dfc-e7da24ab95d2",
   "metadata": {},
   "outputs": [
    {
     "data": {
      "text/plain": [
       "[3, 4, 5]"
      ]
     },
     "execution_count": 140,
     "metadata": {},
     "output_type": "execute_result"
    }
   ],
   "source": [
    "# 3. Find common elements in two lists\n",
    "l1 = [1, 2, 3, 4, 5]\n",
    "l2 = [3, 4, 5, 6, 7]\n",
    "c = []\n",
    "for i in l1:\n",
    "    if i in l2 and i not in c:\n",
    "        c.append(i)\n",
    "c"
   ]
  },
  {
   "cell_type": "code",
   "execution_count": 141,
   "id": "61a6e414-dcf7-4aec-9873-d46a7099ef9c",
   "metadata": {},
   "outputs": [
    {
     "data": {
      "text/plain": [
       "[1, 2, 3, 4, 5, 6, 7]"
      ]
     },
     "execution_count": 141,
     "metadata": {},
     "output_type": "execute_result"
    }
   ],
   "source": [
    "# 3. Find unique elements by merging two lists.\n",
    "l1 = [1, 2, 3, 4, 5]\n",
    "l2 = [3, 4, 5, 6, 7]\n",
    "c = []\n",
    "for i in l1+l2:\n",
    "    if i not in c:\n",
    "        c.append(i)\n",
    "c"
   ]
  },
  {
   "cell_type": "code",
   "execution_count": 142,
   "id": "8497947a-5aa1-4f07-91ec-24e5b792b344",
   "metadata": {},
   "outputs": [
    {
     "name": "stdout",
     "output_type": "stream",
     "text": [
      "0 1 1 2 3 5 8 13 21 34 "
     ]
    }
   ],
   "source": [
    "# Fibonacci series\n",
    "n = 10\n",
    "\n",
    "a = 0\n",
    "b = 1\n",
    "\n",
    "for i in range(1,n+1):\n",
    "    print(a, end=\" \")\n",
    "    temp = a + b\n",
    "    a = b\n",
    "    b = temp"
   ]
  },
  {
   "cell_type": "code",
   "execution_count": 143,
   "id": "38772911-6352-4b7e-8b0f-96e5388b5843",
   "metadata": {},
   "outputs": [
    {
     "name": "stdout",
     "output_type": "stream",
     "text": [
      "Armstrong number\n"
     ]
    }
   ],
   "source": [
    "# Armstrong number\n",
    "\n",
    "n = 153\n",
    "t =n\n",
    "s = 0\n",
    "while n!= 0:\n",
    "    r = n % 10\n",
    "    s = s + r**3\n",
    "    n = n // 10\n",
    "if s == t:\n",
    "    print(\"Armstrong number\")\n",
    "else:\n",
    "    print(\"Not a armstrong number\")"
   ]
  },
  {
   "cell_type": "code",
   "execution_count": 144,
   "id": "59bd4102-4db4-494d-b708-35c33301044e",
   "metadata": {},
   "outputs": [
    {
     "name": "stdout",
     "output_type": "stream",
     "text": [
      "Word Frequency: {'hello': 2, 'world': 1}\n"
     ]
    }
   ],
   "source": [
    "# Write a program to count the frequency of words in a string using a dictionary.\n",
    "\n",
    "s = \"hello hello world\"\n",
    "words = s.split()\n",
    "freq = {}\n",
    "\n",
    "for word in words:\n",
    "    freq[word] = freq.get(word, 0) + 1\n",
    "\n",
    "print(\"Word Frequency:\", freq)"
   ]
  },
  {
   "cell_type": "code",
   "execution_count": 121,
   "id": "7d22c884-45b5-43d2-a041-4b405b66916d",
   "metadata": {},
   "outputs": [
    {
     "name": "stdout",
     "output_type": "stream",
     "text": [
      "Word Frequency: {'m': 1, 'i': 4, 's': 4, 'p': 1}\n"
     ]
    }
   ],
   "source": [
    "# Write a program to count the frequency of characters in a string using a dictionary.\n",
    "\n",
    "s = \"mississipi\"\n",
    "freq = {}\n",
    "\n",
    "for i in s:\n",
    "    freq[i] = freq.get(i, 0) + 1\n",
    "\n",
    "print(\"Word Frequency:\", freq)"
   ]
  },
  {
   "cell_type": "code",
   "execution_count": 117,
   "id": "97be9eb5-8103-483e-bb95-669ff7460538",
   "metadata": {},
   "outputs": [
    {
     "data": {
      "text/plain": [
       "{2: 2, 3: 3, 5: 1, 9: 1, 8: 1, 7: 1}"
      ]
     },
     "execution_count": 117,
     "metadata": {},
     "output_type": "execute_result"
    }
   ],
   "source": [
    "# Write a program to count the frequency of elements in a list using a dictionary.\n",
    "\n",
    "l = [2, 3, 5, 3, 9, 8, 7, 2, 3]\n",
    "d = {}\n",
    "for i in l:\n",
    "    d[i] = d.get(i, 0) + 1\n",
    "d"
   ]
  },
  {
   "cell_type": "code",
   "execution_count": 122,
   "id": "af9793cb-d4c5-4595-8a80-a528c662378a",
   "metadata": {},
   "outputs": [
    {
     "name": "stdout",
     "output_type": "stream",
     "text": [
      "Longest word: learning\n"
     ]
    }
   ],
   "source": [
    "# Count occurrences of each character\n",
    "\n",
    "s = \"machine learning with python\"\n",
    "words = s.split()\n",
    "longest = max(words, key=len)\n",
    "print(\"Longest word:\", longest)"
   ]
  },
  {
   "cell_type": "code",
   "execution_count": 124,
   "id": "313c8e9f-fe48-4c77-9466-a16878289038",
   "metadata": {},
   "outputs": [
    {
     "data": {
      "text/plain": [
       "'progamin'"
      ]
     },
     "execution_count": 124,
     "metadata": {},
     "output_type": "execute_result"
    }
   ],
   "source": [
    "# Remove duplicate characters from a string\n",
    "\n",
    "s = \"programming\"\n",
    "r = \"\"\n",
    "for i in s:\n",
    "    if i not in r:\n",
    "        r += i\n",
    "r"
   ]
  },
  {
   "cell_type": "code",
   "execution_count": null,
   "id": "f90e851a-97dc-4ebb-94ee-e02c255d8521",
   "metadata": {},
   "outputs": [],
   "source": [
    "# Check if two strings are anagrams\n",
    "str1 = \"listen\"\n",
    "str2 = \"silent\"\n",
    "\n",
    "if sorted(str1) == sorted(str2):\n",
    "    print(\"Anagrams\")\n",
    "else:\n",
    "    print(\"Not anagrams\")"
   ]
  },
  {
   "cell_type": "code",
   "execution_count": 145,
   "id": "297f343e-9fe1-4e7c-9f57-ff5c82b7048d",
   "metadata": {},
   "outputs": [
    {
     "data": {
      "text/plain": [
       "'Hello How are you doing today'"
      ]
     },
     "execution_count": 145,
     "metadata": {},
     "output_type": "execute_result"
    }
   ],
   "source": [
    "# Remove all punctuation from a string\n",
    "s = \"Hello! How are you doing today?\"\n",
    "p = '''!()-[]{};:'\"\\,<>./?@#$%^&*_~'''\n",
    "r = \"\"\n",
    "\n",
    "for i in s:\n",
    "    if i not in p:\n",
    "        r += i\n",
    "r"
   ]
  },
  {
   "cell_type": "code",
   "execution_count": 133,
   "id": "33b1c14f-b41f-49b9-9e02-6a6cab1d8261",
   "metadata": {},
   "outputs": [
    {
     "name": "stdout",
     "output_type": "stream",
     "text": [
      "First non-repeating character: c\n"
     ]
    }
   ],
   "source": [
    "# Find the first non-repeating character\n",
    "s = \"aabbcdeffg\"\n",
    "for i in s:\n",
    "    if s.count(i) == 1:\n",
    "        print(\"First non-repeating character:\", i)\n",
    "        break"
   ]
  },
  {
   "cell_type": "code",
   "execution_count": 146,
   "id": "c8de78d1-d8d8-427c-aa19-6a0f46723252",
   "metadata": {},
   "outputs": [
    {
     "name": "stdout",
     "output_type": "stream",
     "text": [
      "Hello World Welcome To Python \n"
     ]
    }
   ],
   "source": [
    "# Capitalize the first letter of each word\n",
    "text = \"hello world welcome to python\"\n",
    "n = \"\"\n",
    "for i in text.split():\n",
    "    n = n + i.capitalize() + \" \"\n",
    "print(n)"
   ]
  },
  {
   "cell_type": "code",
   "execution_count": 147,
   "id": "f84b82b2-d0ca-490c-a346-60e396e5c833",
   "metadata": {},
   "outputs": [
    {
     "data": {
      "text/plain": [
       "43"
      ]
     },
     "execution_count": 147,
     "metadata": {},
     "output_type": "execute_result"
    }
   ],
   "source": [
    "# Find the second largest element in the list\n",
    "l = [43, 21, 64, 34, 23]\n",
    "l1 = l[0]\n",
    "for i in range(len(l)):\n",
    "    if l[i] > l1:\n",
    "        l1 = l[i]\n",
    "l2 = l[0]\n",
    "for i in range(len(l)):\n",
    "    if l[i] > l2 and l[i] != l1:\n",
    "        l2 = l[i]\n",
    "l2"
   ]
  }
 ],
 "metadata": {
  "kernelspec": {
   "display_name": "Python 3 (ipykernel)",
   "language": "python",
   "name": "python3"
  },
  "language_info": {
   "codemirror_mode": {
    "name": "ipython",
    "version": 3
   },
   "file_extension": ".py",
   "mimetype": "text/x-python",
   "name": "python",
   "nbconvert_exporter": "python",
   "pygments_lexer": "ipython3",
   "version": "3.8.12"
  }
 },
 "nbformat": 4,
 "nbformat_minor": 5
}
