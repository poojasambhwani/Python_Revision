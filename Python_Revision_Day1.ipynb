{
 "cells": [
  {
   "cell_type": "code",
   "execution_count": null,
   "id": "4dd97ef7-9415-42f0-b3ad-4d1f06917193",
   "metadata": {},
   "outputs": [],
   "source": [
    "# 1. Nested loop tasks\n",
    "# -take a number from 2 to 5 and print its table\n",
    "# -take a number from 6 to 2 and print its table\n",
    "# -take a number from 6 to 2 and print its table in reverse like 60  54  48 42 36 30 24 18 12 6"
   ]
  },
  {
   "cell_type": "code",
   "execution_count": 10,
   "id": "dbbdf454-cd67-45d9-b427-026af16c0a68",
   "metadata": {},
   "outputs": [
    {
     "name": "stdin",
     "output_type": "stream",
     "text": [
      "Enter a number between 2 and 5 (inclusive). 4\n"
     ]
    },
    {
     "name": "stdout",
     "output_type": "stream",
     "text": [
      "4 x 1 = 4\n",
      "4 x 2 = 8\n",
      "4 x 3 = 12\n",
      "4 x 4 = 16\n",
      "4 x 5 = 20\n",
      "4 x 6 = 24\n",
      "4 x 7 = 28\n",
      "4 x 8 = 32\n",
      "4 x 9 = 36\n",
      "4 x 10 = 40\n",
      "\n"
     ]
    },
    {
     "name": "stdin",
     "output_type": "stream",
     "text": [
      "Enter a number between 6 and 2 (inclusive). 5\n"
     ]
    },
    {
     "name": "stdout",
     "output_type": "stream",
     "text": [
      "5 x 1 = 5\n",
      "5 x 2 = 10\n",
      "5 x 3 = 15\n",
      "5 x 4 = 20\n",
      "5 x 5 = 25\n",
      "5 x 6 = 30\n",
      "5 x 7 = 35\n",
      "5 x 8 = 40\n",
      "5 x 9 = 45\n",
      "5 x 10 = 50\n",
      "\n"
     ]
    },
    {
     "name": "stdin",
     "output_type": "stream",
     "text": [
      "Enter a number between 6 and 2 (inclusive). 6\n"
     ]
    },
    {
     "name": "stdout",
     "output_type": "stream",
     "text": [
      "6 x 10 = 60\n",
      "6 x 9 = 54\n",
      "6 x 8 = 48\n",
      "6 x 7 = 42\n",
      "6 x 6 = 36\n",
      "6 x 5 = 30\n",
      "6 x 4 = 24\n",
      "6 x 3 = 18\n",
      "6 x 2 = 12\n",
      "6 x 1 = 6\n",
      "\n"
     ]
    }
   ],
   "source": [
    "case1 = int(input(\"Enter a number between 2 and 5 (inclusive).\"))\n",
    "if case1>=2 and case1<=5:\n",
    "    for i in range(1,11):\n",
    "        print(f\"{case1} x {i} = {case1*i}\")\n",
    "else:\n",
    "    print(\"Invalid input! Please enter a number between 2 and 5.\")\n",
    "print()\n",
    "case2 = int(input(\"Enter a number between 6 and 2 (inclusive).\"))\n",
    "if case2<=6 and case2>=2:\n",
    "    for j in range(1,11):\n",
    "        print(f\"{case2} x {j} = {case2*j}\")\n",
    "else:\n",
    "    print(\"Invalid input! Please enter a number between 6 and 2.\")\n",
    "print()\n",
    "case3 = int(input(\"Enter a number between 6 and 2 (inclusive).\"))\n",
    "if case3<=6 and case3>=2:\n",
    "    for k in range(10,0,-1):\n",
    "        print(f\"{case3} x {k} = {case3*k}\")\n",
    "else:\n",
    "    print(\"Invalid input! Please enter a number between 6 and 2.\")\n",
    "print()"
   ]
  },
  {
   "cell_type": "code",
   "execution_count": 13,
   "id": "e69643c5-b25c-4b98-9a92-8989b9d1b4f6",
   "metadata": {},
   "outputs": [
    {
     "name": "stdin",
     "output_type": "stream",
     "text": [
      "Enter a number:  11\n"
     ]
    },
    {
     "name": "stdout",
     "output_type": "stream",
     "text": [
      "11 is a prime number\n"
     ]
    }
   ],
   "source": [
    "# 2. Check a number is a prime not\n",
    "\n",
    "num = int(input(\"Enter a number: \"))\n",
    "if num > 1:\n",
    "    for i in range(2, num):\n",
    "        if num % i == 0:\n",
    "            print(num, \"is not a prime number\")\n",
    "            break\n",
    "    else:\n",
    "        print(num, \"is a prime number\")\n",
    "else:\n",
    "    print(num, \"is not a prime number\")"
   ]
  },
  {
   "cell_type": "code",
   "execution_count": 21,
   "id": "18874376-30ca-4a37-888a-895220ce6062",
   "metadata": {},
   "outputs": [
    {
     "name": "stdout",
     "output_type": "stream",
     "text": [
      "Printing all the prime numbers between 2 and 19 (inclusive):\n",
      "2\n",
      "3\n",
      "5\n",
      "7\n",
      "11\n",
      "13\n",
      "17\n",
      "19\n"
     ]
    }
   ],
   "source": [
    "# 3. Take a range of values from 2 to 19 and print all prime number\n",
    "\n",
    "print(\"Printing all the prime numbers between 2 and 19 (inclusive):\")\n",
    "for num in range(2, 20):\n",
    "    for i in range(2, num):\n",
    "        if num % i == 0:\n",
    "            break\n",
    "    else:\n",
    "        print(num)"
   ]
  },
  {
   "cell_type": "code",
   "execution_count": 27,
   "id": "462fa058-c255-4726-b941-cd5965695ada",
   "metadata": {},
   "outputs": [
    {
     "name": "stdout",
     "output_type": "stream",
     "text": [
      "****\n",
      "***\n",
      "**\n",
      "*\n"
     ]
    }
   ],
   "source": [
    "# 4. ****\n",
    "#    ***\n",
    "#    **\n",
    "#    *\n",
    "\n",
    "for i in range(0,4):\n",
    "    for j in range(i,4):\n",
    "        print(\"*\",end=\"\")\n",
    "    print()"
   ]
  },
  {
   "cell_type": "code",
   "execution_count": 32,
   "id": "1d9c8e33-3548-4408-8b58-717184adb8d6",
   "metadata": {},
   "outputs": [
    {
     "name": "stdout",
     "output_type": "stream",
     "text": [
      "$$$*\n",
      "$$**\n",
      "$***\n",
      "****\n"
     ]
    }
   ],
   "source": [
    "# 5. $$$*\n",
    "#    $$**\n",
    "#    $***\n",
    "#    ****\n",
    "\n",
    "for i in range(0,4):\n",
    "    for j in range(i,3):\n",
    "        print(\"$\",end=\"\")\n",
    "    for k in range(0,i+1):\n",
    "        print(\"*\",end=\"\")\n",
    "    print()"
   ]
  },
  {
   "cell_type": "code",
   "execution_count": 34,
   "id": "384bd9b4-6ca8-44fb-885e-68e969224fb7",
   "metadata": {},
   "outputs": [
    {
     "name": "stdout",
     "output_type": "stream",
     "text": [
      "After appending elements: [7, 5, 2, 4]\n",
      "After removing 2: [7, 5, 4]\n",
      "After inserting 9 at index 1: [7, 9, 5, 4]\n",
      "After sorting in ascending order: [4, 5, 7, 9]\n",
      "After popping the last element: [4, 5, 7]\n"
     ]
    }
   ],
   "source": [
    "# 6. Read about list and check all its function\n",
    "# append: Adds an element to the end of the list\n",
    "pop: Removes and returns an element by index\n",
    "remove: Removes the first occurrence of a value\n",
    "sort: ,  insert()\n",
    "\n",
    "# Step 1: Created an empty list and added elements using append()\n",
    "n = []\n",
    "n.append(7)\n",
    "n.append(5)\n",
    "n.append(2)\n",
    "n.append(4)\n",
    "print(\"After appending elements:\", n)\n",
    "\n",
    "# Step 2: Removed an element using remove()\n",
    "n.remove(2)\n",
    "print(\"After removing 2:\", n)\n",
    "\n",
    "# Step 3: Inserted an element at a specific position\n",
    "n.insert(1, 9)\n",
    "print(\"After inserting 9 at index 1:\", n)\n",
    "\n",
    "# Step 4: Sorted the list in ascending order\n",
    "n.sort()\n",
    "print(\"After sorting in ascending order:\", n)\n",
    "\n",
    "# Step 5: Removed the last element using pop()\n",
    "r = n.pop()\n",
    "print(\"After popping the last element:\", n)"
   ]
  }
 ],
 "metadata": {
  "kernelspec": {
   "display_name": "Python 3 (ipykernel)",
   "language": "python",
   "name": "python3"
  },
  "language_info": {
   "codemirror_mode": {
    "name": "ipython",
    "version": 3
   },
   "file_extension": ".py",
   "mimetype": "text/x-python",
   "name": "python",
   "nbconvert_exporter": "python",
   "pygments_lexer": "ipython3",
   "version": "3.8.12"
  }
 },
 "nbformat": 4,
 "nbformat_minor": 5
}
